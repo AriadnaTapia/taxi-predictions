{
 "cells": [
  {
   "cell_type": "markdown",
   "metadata": {},
   "source": [
    "# Proyecto 15 - Series Temporales"
   ]
  },
  {
   "cell_type": "markdown",
   "metadata": {},
   "source": [
    "# Descripción del proyecto\n",
    "\n",
    "La compañía Sweet Lift Taxi ha recopilado datos históricos sobre pedidos de taxis en los aeropuertos. Para atraer a más conductores durante las horas pico, necesitamos predecir la cantidad de pedidos de taxis para la próxima hora. Construye un modelo para dicha predicción.\n",
    "\n",
    "La métrica RECM en el conjunto de prueba no debe ser superior a 48.\n",
    "\n",
    "## Instrucciones del proyecto.\n",
    "\n",
    "1. Descarga los datos y haz el remuestreo por una hora.\n",
    "2. Analiza los datos\n",
    "3. Entrena diferentes modelos con diferentes hiperparámetros. La muestra de prueba debe ser el 10% del conjunto de datos inicial.4. Prueba los datos usando la muestra de prueba y proporciona una conclusión.\n",
    "\n",
    "## Descripción de los datos\n",
    "\n",
    "Los datos se almacenan en el archivo `taxi.csv`. \t\n",
    "El número de pedidos está en la columna `num_orders`."
   ]
  },
  {
   "cell_type": "markdown",
   "metadata": {},
   "source": [
    "## Preparación"
   ]
  },
  {
   "cell_type": "markdown",
   "metadata": {},
   "source": [
    "### Importación de librerias"
   ]
  },
  {
   "cell_type": "code",
   "execution_count": 1,
   "metadata": {},
   "outputs": [],
   "source": [
    "import pandas as pd\n",
    "import numpy as np\n",
    "\n",
    "from sklearn.model_selection import train_test_split\n",
    "from sklearn.metrics import mean_squared_error\n",
    "from sklearn.linear_model import LinearRegression\n",
    "from sklearn.ensemble import RandomForestRegressor\n",
    "from sklearn.tree import DecisionTreeRegressor\n",
    "from catboost import CatBoostRegressor\n",
    "import lightgbm as lgb"
   ]
  },
  {
   "cell_type": "markdown",
   "metadata": {},
   "source": [
    "### Carga de archivo"
   ]
  },
  {
   "cell_type": "markdown",
   "metadata": {},
   "source": [
    "Para este proyecto realizamos la carga del archivo colocando la columna de fechas como indice con index_col=[0] y nos aseguramos que este índice se convierta en tipo datetime con parse_dates=[0]."
   ]
  },
  {
   "cell_type": "code",
   "execution_count": 2,
   "metadata": {},
   "outputs": [],
   "source": [
    "df = pd.read_csv('/datasets/taxi.csv', index_col=[0], parse_dates=[0])\n",
    "df.sort_index(inplace=True)"
   ]
  },
  {
   "cell_type": "markdown",
   "metadata": {},
   "source": [
    "### Inspección de datos"
   ]
  },
  {
   "cell_type": "code",
   "execution_count": 3,
   "metadata": {},
   "outputs": [
    {
     "data": {
      "text/html": [
       "<div>\n",
       "<style scoped>\n",
       "    .dataframe tbody tr th:only-of-type {\n",
       "        vertical-align: middle;\n",
       "    }\n",
       "\n",
       "    .dataframe tbody tr th {\n",
       "        vertical-align: top;\n",
       "    }\n",
       "\n",
       "    .dataframe thead th {\n",
       "        text-align: right;\n",
       "    }\n",
       "</style>\n",
       "<table border=\"1\" class=\"dataframe\">\n",
       "  <thead>\n",
       "    <tr style=\"text-align: right;\">\n",
       "      <th></th>\n",
       "      <th>num_orders</th>\n",
       "    </tr>\n",
       "    <tr>\n",
       "      <th>datetime</th>\n",
       "      <th></th>\n",
       "    </tr>\n",
       "  </thead>\n",
       "  <tbody>\n",
       "    <tr>\n",
       "      <th>2018-06-05 10:30:00</th>\n",
       "      <td>7</td>\n",
       "    </tr>\n",
       "    <tr>\n",
       "      <th>2018-04-23 11:10:00</th>\n",
       "      <td>7</td>\n",
       "    </tr>\n",
       "    <tr>\n",
       "      <th>2018-05-12 06:00:00</th>\n",
       "      <td>4</td>\n",
       "    </tr>\n",
       "    <tr>\n",
       "      <th>2018-07-03 18:40:00</th>\n",
       "      <td>18</td>\n",
       "    </tr>\n",
       "    <tr>\n",
       "      <th>2018-03-23 17:30:00</th>\n",
       "      <td>16</td>\n",
       "    </tr>\n",
       "    <tr>\n",
       "      <th>2018-07-24 06:20:00</th>\n",
       "      <td>4</td>\n",
       "    </tr>\n",
       "    <tr>\n",
       "      <th>2018-08-19 02:30:00</th>\n",
       "      <td>24</td>\n",
       "    </tr>\n",
       "    <tr>\n",
       "      <th>2018-03-30 12:30:00</th>\n",
       "      <td>3</td>\n",
       "    </tr>\n",
       "    <tr>\n",
       "      <th>2018-04-14 00:10:00</th>\n",
       "      <td>21</td>\n",
       "    </tr>\n",
       "    <tr>\n",
       "      <th>2018-07-06 13:30:00</th>\n",
       "      <td>18</td>\n",
       "    </tr>\n",
       "  </tbody>\n",
       "</table>\n",
       "</div>"
      ],
      "text/plain": [
       "                     num_orders\n",
       "datetime                       \n",
       "2018-06-05 10:30:00           7\n",
       "2018-04-23 11:10:00           7\n",
       "2018-05-12 06:00:00           4\n",
       "2018-07-03 18:40:00          18\n",
       "2018-03-23 17:30:00          16\n",
       "2018-07-24 06:20:00           4\n",
       "2018-08-19 02:30:00          24\n",
       "2018-03-30 12:30:00           3\n",
       "2018-04-14 00:10:00          21\n",
       "2018-07-06 13:30:00          18"
      ]
     },
     "execution_count": 3,
     "metadata": {},
     "output_type": "execute_result"
    }
   ],
   "source": [
    "df.sample(10)"
   ]
  },
  {
   "cell_type": "code",
   "execution_count": 4,
   "metadata": {
    "scrolled": true
   },
   "outputs": [
    {
     "name": "stdout",
     "output_type": "stream",
     "text": [
      "<class 'pandas.core.frame.DataFrame'>\n",
      "DatetimeIndex: 26496 entries, 2018-03-01 00:00:00 to 2018-08-31 23:50:00\n",
      "Data columns (total 1 columns):\n",
      " #   Column      Non-Null Count  Dtype\n",
      "---  ------      --------------  -----\n",
      " 0   num_orders  26496 non-null  int64\n",
      "dtypes: int64(1)\n",
      "memory usage: 414.0 KB\n"
     ]
    }
   ],
   "source": [
    "df.info()"
   ]
  },
  {
   "cell_type": "code",
   "execution_count": 5,
   "metadata": {
    "scrolled": true
   },
   "outputs": [
    {
     "data": {
      "text/html": [
       "<div>\n",
       "<style scoped>\n",
       "    .dataframe tbody tr th:only-of-type {\n",
       "        vertical-align: middle;\n",
       "    }\n",
       "\n",
       "    .dataframe tbody tr th {\n",
       "        vertical-align: top;\n",
       "    }\n",
       "\n",
       "    .dataframe thead th {\n",
       "        text-align: right;\n",
       "    }\n",
       "</style>\n",
       "<table border=\"1\" class=\"dataframe\">\n",
       "  <thead>\n",
       "    <tr style=\"text-align: right;\">\n",
       "      <th></th>\n",
       "      <th>num_orders</th>\n",
       "    </tr>\n",
       "  </thead>\n",
       "  <tbody>\n",
       "    <tr>\n",
       "      <th>count</th>\n",
       "      <td>26496.000000</td>\n",
       "    </tr>\n",
       "    <tr>\n",
       "      <th>mean</th>\n",
       "      <td>14.070463</td>\n",
       "    </tr>\n",
       "    <tr>\n",
       "      <th>std</th>\n",
       "      <td>9.211330</td>\n",
       "    </tr>\n",
       "    <tr>\n",
       "      <th>min</th>\n",
       "      <td>0.000000</td>\n",
       "    </tr>\n",
       "    <tr>\n",
       "      <th>25%</th>\n",
       "      <td>8.000000</td>\n",
       "    </tr>\n",
       "    <tr>\n",
       "      <th>50%</th>\n",
       "      <td>13.000000</td>\n",
       "    </tr>\n",
       "    <tr>\n",
       "      <th>75%</th>\n",
       "      <td>19.000000</td>\n",
       "    </tr>\n",
       "    <tr>\n",
       "      <th>max</th>\n",
       "      <td>119.000000</td>\n",
       "    </tr>\n",
       "  </tbody>\n",
       "</table>\n",
       "</div>"
      ],
      "text/plain": [
       "         num_orders\n",
       "count  26496.000000\n",
       "mean      14.070463\n",
       "std        9.211330\n",
       "min        0.000000\n",
       "25%        8.000000\n",
       "50%       13.000000\n",
       "75%       19.000000\n",
       "max      119.000000"
      ]
     },
     "execution_count": 5,
     "metadata": {},
     "output_type": "execute_result"
    }
   ],
   "source": [
    "df.describe()"
   ]
  },
  {
   "cell_type": "code",
   "execution_count": 6,
   "metadata": {},
   "outputs": [
    {
     "data": {
      "text/plain": [
       "26496"
      ]
     },
     "execution_count": 6,
     "metadata": {},
     "output_type": "execute_result"
    }
   ],
   "source": [
    "len(df.index.unique())"
   ]
  },
  {
   "cell_type": "code",
   "execution_count": 7,
   "metadata": {},
   "outputs": [
    {
     "name": "stdout",
     "output_type": "stream",
     "text": [
      "26415\n"
     ]
    }
   ],
   "source": [
    "print(df.duplicated().sum())"
   ]
  },
  {
   "cell_type": "code",
   "execution_count": 8,
   "metadata": {},
   "outputs": [
    {
     "name": "stdout",
     "output_type": "stream",
     "text": [
      "num_orders    0\n",
      "dtype: int64\n"
     ]
    }
   ],
   "source": [
    "print(df.isnull().sum())"
   ]
  },
  {
   "cell_type": "markdown",
   "metadata": {},
   "source": [
    "En este caso, los duplicados he validado que los valores unicos en índice para validar si existe un valor duplicado, ya que el numero de ordenes se repite debido a que muchos momentos tuvieron la misma cantidad de pedidos y los valores pueden repetirse en diferentes horas. Para este caso no se eliminan los duplicados. \n",
    "\n",
    "Por otro lado no hay valores ausentes.\n",
    "\n",
    "En cuanto a los hallazgos en .describe() encontramos que:\n",
    "\n",
    "- El conjunto es lo suficientemente robusto para contruir un modelo de predicción con sus 26,496 entradas.\n",
    "- Esto puede interpretarse como un comportamiento típico en horarios promedio, aunque se necesita remuestreo para precisar a qué frecuencia exacta corresponde.\n",
    "- Tenemos una desviación estandar (std) de 9.21, esto sugiere que la cantidad de pedidos varía notablemente entre intervalos.\n",
    "- Los rangos entre el minimo y el maximo de valores va de 0 a 119 lo cual refleja que existen horas con baja demanda y horas pico, podría reflejar patrones estacionales o tendencias.\n",
    "\n"
   ]
  },
  {
   "cell_type": "markdown",
   "metadata": {},
   "source": [
    "### Remuestreo de datos"
   ]
  },
  {
   "cell_type": "markdown",
   "metadata": {},
   "source": [
    "Agrupamos los registros por hora de acuerdo al índice de fechas con .resample(), debido a que nuestro objetivo es predecir cuantos pedidos existen en una hora en especifico utilizamos .sum() para conocer el total por hora."
   ]
  },
  {
   "cell_type": "code",
   "execution_count": 9,
   "metadata": {
    "scrolled": false
   },
   "outputs": [
    {
     "name": "stdout",
     "output_type": "stream",
     "text": [
      "                     num_orders\n",
      "datetime                       \n",
      "2018-06-21 03:00:00         124\n",
      "2018-06-24 05:00:00          93\n",
      "2018-08-28 09:00:00         195\n",
      "2018-08-26 06:00:00          33\n",
      "2018-08-05 12:00:00          86\n",
      "2018-03-27 02:00:00          46\n",
      "2018-04-25 07:00:00          27\n",
      "2018-03-20 15:00:00          74\n",
      "2018-06-07 17:00:00         113\n",
      "2018-03-19 00:00:00          97\n"
     ]
    }
   ],
   "source": [
    "df = df.resample('1H').sum()\n",
    "print(df.sample(10))"
   ]
  },
  {
   "cell_type": "markdown",
   "metadata": {},
   "source": [
    "### Creación de Caracteristicas"
   ]
  },
  {
   "cell_type": "code",
   "execution_count": 10,
   "metadata": {},
   "outputs": [],
   "source": [
    "def make_features(data, max_lag, rolling_mean_size):\n",
    "    data['month'] = data.index.month\n",
    "    data['day'] = data.index.day\n",
    "    data['dayofweek'] = data.index.dayofweek\n",
    "    data['hour'] = data.index.hour\n",
    "    \n",
    "    for lag in range(1, max_lag + 1):\n",
    "        data['lag_{}'.format(lag)] = data['num_orders'].shift(lag)\n",
    "        \n",
    "    data['rolling_mean'] = data['num_orders'].shift().rolling(rolling_mean_size).mean()\n",
    "    \n",
    "# Aplicamos la función con datos al azar.\n",
    "\n",
    "make_features(df, 7, 24)"
   ]
  },
  {
   "cell_type": "code",
   "execution_count": 11,
   "metadata": {},
   "outputs": [],
   "source": [
    "### Preparación de conjunto de entrenamiento y test.\n",
    "\n",
    "train, test = train_test_split(df, shuffle=False, test_size=0.1) \n",
    "train = train.dropna()\n",
    "\n",
    "features_train = train.drop(['num_orders'], axis=1)\n",
    "target_train = train['num_orders']\n",
    "features_test = test.drop(['num_orders'], axis=1) \n",
    "target_test = test['num_orders']"
   ]
  },
  {
   "cell_type": "markdown",
   "metadata": {},
   "source": [
    "## Análisis"
   ]
  },
  {
   "cell_type": "code",
   "execution_count": 12,
   "metadata": {},
   "outputs": [
    {
     "data": {
      "text/plain": [
       "<AxesSubplot:xlabel='datetime'>"
      ]
     },
     "execution_count": 12,
     "metadata": {},
     "output_type": "execute_result"
    },
    {
     "data": {
      "image/png": "[encoded data removed]",
      "text/plain": [
       "<Figure size 1200x400 with 1 Axes>"
      ]
     },
     "metadata": {},
     "output_type": "display_data"
    }
   ],
   "source": [
    "df[['num_orders','rolling_mean']].plot(figsize=(12,4))"
   ]
  },
  {
   "cell_type": "markdown",
   "metadata": {},
   "source": [
    "Al graficar la serie original (num_orders) junto con su media móvil (rolling_mean), se pueden observar varios patrones importantes:\n",
    "\n",
    "Existe una tendencia general creciente en la demanda de taxis a lo largo del periodo analizado.\n",
    "\n",
    "Se detectan repeticiones diarias, lo cual sugiere una posible estacionalidad por hora o día de la semana.\n",
    "\n",
    "La dispersión de los pedidos varía bastante durante el día: hay horas con demanda baja y otras con picos muy marcados.\n",
    "\n",
    "En el mes de agosto, se observan varios picos pronunciados, lo que podría indicar eventos específicos o cambios estacionales."
   ]
  },
  {
   "cell_type": "markdown",
   "metadata": {},
   "source": [
    "## Formación"
   ]
  },
  {
   "cell_type": "markdown",
   "metadata": {},
   "source": [
    "### Entrenamiento de modelos."
   ]
  },
  {
   "cell_type": "markdown",
   "metadata": {},
   "source": [
    "#### Regresión Lineal"
   ]
  },
  {
   "cell_type": "code",
   "execution_count": 13,
   "metadata": {},
   "outputs": [
    {
     "name": "stdout",
     "output_type": "stream",
     "text": [
      "RMSE (Regresión lineal): 51.35\n"
     ]
    }
   ],
   "source": [
    "lr = LinearRegression()\n",
    "lr.fit(features_train, target_train)\n",
    "\n",
    "#Predicciones\n",
    "lr_pred = lr.predict(features_test)\n",
    "\n",
    "#Calculo de RMSE\n",
    "rmse_lr = np.sqrt(mean_squared_error(target_test, lr_pred))\n",
    "print(f\"RMSE (Regresión lineal): {rmse_lr:.2f}\")"
   ]
  },
  {
   "cell_type": "markdown",
   "metadata": {},
   "source": [
    "#### Random Forest"
   ]
  },
  {
   "cell_type": "code",
   "execution_count": 14,
   "metadata": {},
   "outputs": [
    {
     "name": "stdout",
     "output_type": "stream",
     "text": [
      "RMSE (Random Forest): 45.29\n"
     ]
    }
   ],
   "source": [
    "#Entrenar modelo\n",
    "randomf = RandomForestRegressor(n_estimators=50, max_depth=10, random_state=12345)\n",
    "randomf.fit(features_train, target_train)\n",
    "\n",
    "#Predicciones\n",
    "randomf_pred = randomf.predict(features_test)\n",
    "\n",
    "#Calcular RMSE\n",
    "rmse_randomf = np.sqrt(mean_squared_error(target_test, randomf_pred))\n",
    "print(f\"RMSE (Random Forest): {rmse_randomf:.2f}\")"
   ]
  },
  {
   "cell_type": "markdown",
   "metadata": {},
   "source": [
    "#### Decision Tree"
   ]
  },
  {
   "cell_type": "code",
   "execution_count": 15,
   "metadata": {},
   "outputs": [
    {
     "name": "stdout",
     "output_type": "stream",
     "text": [
      "RMSE (Árbol de decisión): 51.92\n"
     ]
    }
   ],
   "source": [
    "#Entrenar modelo\n",
    "tree = DecisionTreeRegressor(max_depth=9, random_state=12345)\n",
    "tree.fit(features_train, target_train)\n",
    "\n",
    "#Predicciones\n",
    "tree_pred = tree.predict(features_test)\n",
    "\n",
    "#Calcular RMSE\n",
    "rmse_tree = np.sqrt(mean_squared_error(target_test, tree_pred))\n",
    "print(f\"RMSE (Árbol de decisión): {rmse_tree:.2f}\")\n"
   ]
  },
  {
   "cell_type": "markdown",
   "metadata": {},
   "source": [
    "#### LightGBM"
   ]
  },
  {
   "cell_type": "code",
   "execution_count": 16,
   "metadata": {},
   "outputs": [
    {
     "name": "stdout",
     "output_type": "stream",
     "text": [
      "RMSE (Light): 42.63\n"
     ]
    }
   ],
   "source": [
    "#Entrenar modelo\n",
    "lgb = lgb.LGBMRegressor(\n",
    "    n_estimators=100,\n",
    "    learning_rate=0.1,\n",
    "    max_depth=6,\n",
    "    random_state=12345\n",
    ")\n",
    "lgb.fit(features_train, target_train)\n",
    "\n",
    "#Predicciones\n",
    "target_pred_lgb = lgb.predict(features_test)\n",
    "\n",
    "#Calcular RMSE\n",
    "rmse_lgbm = np.sqrt(mean_squared_error(target_test, target_pred_lgb))\n",
    "print(f\"RMSE (Light): {rmse_lgbm:.2f}\")"
   ]
  },
  {
   "cell_type": "markdown",
   "metadata": {},
   "source": [
    "#### CatBoost"
   ]
  },
  {
   "cell_type": "code",
   "execution_count": 17,
   "metadata": {},
   "outputs": [
    {
     "name": "stdout",
     "output_type": "stream",
     "text": [
      "0:\tlearn: 36.7645211\ttotal: 61.7ms\tremaining: 30.8s\n",
      "10:\tlearn: 26.6193557\ttotal: 195ms\tremaining: 8.67s\n",
      "20:\tlearn: 22.8413789\ttotal: 333ms\tremaining: 7.59s\n",
      "30:\tlearn: 21.1329813\ttotal: 465ms\tremaining: 7.04s\n",
      "40:\tlearn: 20.1355877\ttotal: 597ms\tremaining: 6.68s\n",
      "50:\tlearn: 19.2407607\ttotal: 738ms\tremaining: 6.5s\n",
      "60:\tlearn: 18.4881494\ttotal: 876ms\tremaining: 6.31s\n",
      "70:\tlearn: 17.7717855\ttotal: 1.01s\tremaining: 6.09s\n",
      "80:\tlearn: 17.1866134\ttotal: 1.14s\tremaining: 5.91s\n",
      "90:\tlearn: 16.5618448\ttotal: 1.27s\tremaining: 5.73s\n",
      "100:\tlearn: 16.1212376\ttotal: 1.41s\tremaining: 5.57s\n",
      "110:\tlearn: 15.4948592\ttotal: 1.54s\tremaining: 5.42s\n",
      "120:\tlearn: 14.9571788\ttotal: 1.68s\tremaining: 5.27s\n",
      "130:\tlearn: 14.4531646\ttotal: 1.82s\tremaining: 5.12s\n",
      "140:\tlearn: 14.0164378\ttotal: 1.95s\tremaining: 4.97s\n",
      "150:\tlearn: 13.5820255\ttotal: 2.08s\tremaining: 4.82s\n",
      "160:\tlearn: 13.0519981\ttotal: 2.22s\tremaining: 4.68s\n",
      "170:\tlearn: 12.4754959\ttotal: 2.36s\tremaining: 4.54s\n",
      "180:\tlearn: 12.1405690\ttotal: 2.5s\tremaining: 4.4s\n",
      "190:\tlearn: 11.7828345\ttotal: 2.63s\tremaining: 4.26s\n",
      "200:\tlearn: 11.4824339\ttotal: 2.75s\tremaining: 4.09s\n",
      "210:\tlearn: 11.1827762\ttotal: 2.88s\tremaining: 3.95s\n",
      "220:\tlearn: 10.7952193\ttotal: 3.03s\tremaining: 3.83s\n",
      "230:\tlearn: 10.5388786\ttotal: 3.17s\tremaining: 3.69s\n",
      "240:\tlearn: 10.2472317\ttotal: 3.31s\tremaining: 3.55s\n",
      "250:\tlearn: 10.0019515\ttotal: 3.45s\tremaining: 3.42s\n",
      "260:\tlearn: 9.7218680\ttotal: 3.58s\tremaining: 3.28s\n",
      "270:\tlearn: 9.4087017\ttotal: 3.72s\tremaining: 3.14s\n",
      "280:\tlearn: 9.1223128\ttotal: 3.86s\tremaining: 3.01s\n",
      "290:\tlearn: 8.8118984\ttotal: 3.99s\tremaining: 2.87s\n",
      "300:\tlearn: 8.5324033\ttotal: 4.14s\tremaining: 2.73s\n",
      "310:\tlearn: 8.3290067\ttotal: 4.27s\tremaining: 2.6s\n",
      "320:\tlearn: 8.1604250\ttotal: 4.4s\tremaining: 2.45s\n",
      "330:\tlearn: 7.9371538\ttotal: 4.53s\tremaining: 2.31s\n",
      "340:\tlearn: 7.6973809\ttotal: 4.67s\tremaining: 2.18s\n",
      "350:\tlearn: 7.4323264\ttotal: 4.8s\tremaining: 2.04s\n",
      "360:\tlearn: 7.1659892\ttotal: 4.93s\tremaining: 1.9s\n",
      "370:\tlearn: 6.9767407\ttotal: 5.06s\tremaining: 1.76s\n",
      "380:\tlearn: 6.7894323\ttotal: 5.19s\tremaining: 1.62s\n",
      "390:\tlearn: 6.6715220\ttotal: 5.32s\tremaining: 1.48s\n",
      "400:\tlearn: 6.4776504\ttotal: 5.45s\tremaining: 1.35s\n",
      "410:\tlearn: 6.3255600\ttotal: 5.59s\tremaining: 1.21s\n",
      "420:\tlearn: 6.1456391\ttotal: 5.73s\tremaining: 1.07s\n",
      "430:\tlearn: 6.0125205\ttotal: 5.86s\tremaining: 939ms\n",
      "440:\tlearn: 5.8316021\ttotal: 6s\tremaining: 803ms\n",
      "450:\tlearn: 5.6766910\ttotal: 6.13s\tremaining: 666ms\n",
      "460:\tlearn: 5.5282010\ttotal: 6.26s\tremaining: 530ms\n",
      "470:\tlearn: 5.4177803\ttotal: 6.39s\tremaining: 394ms\n",
      "480:\tlearn: 5.2714799\ttotal: 6.53s\tremaining: 258ms\n",
      "490:\tlearn: 5.1291202\ttotal: 6.66s\tremaining: 122ms\n",
      "499:\tlearn: 5.0207297\ttotal: 6.78s\tremaining: 0us\n",
      "RMSE (CatBoost): 48.27\n"
     ]
    }
   ],
   "source": [
    "#Entrenar modelo\n",
    "cat_model = CatBoostRegressor(\n",
    "    iterations=500,\n",
    "    depth=10,\n",
    "    learning_rate=0.1,\n",
    "    random_state=12345,\n",
    "    verbose=10\n",
    ")\n",
    "cat_model.fit(features_train, target_train)\n",
    "\n",
    "# Predicciones\n",
    "target_pred_cat = cat_model.predict(features_test)\n",
    "\n",
    "#Calcular RMSE\n",
    "rmse_cat = np.sqrt(mean_squared_error(target_test, target_pred_cat))\n",
    "print(f\"RMSE (CatBoost): {rmse_cat:.2f}\")"
   ]
  },
  {
   "cell_type": "markdown",
   "metadata": {},
   "source": [
    "## Prueba"
   ]
  },
  {
   "cell_type": "code",
   "execution_count": 18,
   "metadata": {
    "scrolled": true
   },
   "outputs": [
    {
     "data": {
      "text/html": [
       "<div>\n",
       "<style scoped>\n",
       "    .dataframe tbody tr th:only-of-type {\n",
       "        vertical-align: middle;\n",
       "    }\n",
       "\n",
       "    .dataframe tbody tr th {\n",
       "        vertical-align: top;\n",
       "    }\n",
       "\n",
       "    .dataframe thead th {\n",
       "        text-align: right;\n",
       "    }\n",
       "</style>\n",
       "<table border=\"1\" class=\"dataframe\">\n",
       "  <thead>\n",
       "    <tr style=\"text-align: right;\">\n",
       "      <th></th>\n",
       "      <th>real</th>\n",
       "      <th>Linear</th>\n",
       "      <th>RandomForest</th>\n",
       "      <th>Decision Tree</th>\n",
       "      <th>CatBoost</th>\n",
       "      <th>LightGBM</th>\n",
       "    </tr>\n",
       "    <tr>\n",
       "      <th>datetime</th>\n",
       "      <th></th>\n",
       "      <th></th>\n",
       "      <th></th>\n",
       "      <th></th>\n",
       "      <th></th>\n",
       "      <th></th>\n",
       "    </tr>\n",
       "  </thead>\n",
       "  <tbody>\n",
       "    <tr>\n",
       "      <th>2018-08-13 14:00:00</th>\n",
       "      <td>102</td>\n",
       "      <td>111.297030</td>\n",
       "      <td>91.932076</td>\n",
       "      <td>92.668394</td>\n",
       "      <td>96.698188</td>\n",
       "      <td>97.330791</td>\n",
       "    </tr>\n",
       "    <tr>\n",
       "      <th>2018-08-13 15:00:00</th>\n",
       "      <td>175</td>\n",
       "      <td>109.054284</td>\n",
       "      <td>114.476352</td>\n",
       "      <td>92.668394</td>\n",
       "      <td>112.044574</td>\n",
       "      <td>115.830529</td>\n",
       "    </tr>\n",
       "    <tr>\n",
       "      <th>2018-08-13 16:00:00</th>\n",
       "      <td>144</td>\n",
       "      <td>141.072347</td>\n",
       "      <td>136.659002</td>\n",
       "      <td>132.806452</td>\n",
       "      <td>146.242545</td>\n",
       "      <td>146.646252</td>\n",
       "    </tr>\n",
       "    <tr>\n",
       "      <th>2018-08-13 17:00:00</th>\n",
       "      <td>152</td>\n",
       "      <td>135.878736</td>\n",
       "      <td>133.117281</td>\n",
       "      <td>132.806452</td>\n",
       "      <td>144.305815</td>\n",
       "      <td>120.850099</td>\n",
       "    </tr>\n",
       "    <tr>\n",
       "      <th>2018-08-13 18:00:00</th>\n",
       "      <td>104</td>\n",
       "      <td>136.429951</td>\n",
       "      <td>118.803827</td>\n",
       "      <td>132.806452</td>\n",
       "      <td>121.467387</td>\n",
       "      <td>107.397555</td>\n",
       "    </tr>\n",
       "    <tr>\n",
       "      <th>2018-08-13 19:00:00</th>\n",
       "      <td>91</td>\n",
       "      <td>111.273074</td>\n",
       "      <td>99.090585</td>\n",
       "      <td>90.490909</td>\n",
       "      <td>99.279846</td>\n",
       "      <td>102.919152</td>\n",
       "    </tr>\n",
       "    <tr>\n",
       "      <th>2018-08-13 20:00:00</th>\n",
       "      <td>82</td>\n",
       "      <td>104.714504</td>\n",
       "      <td>108.246683</td>\n",
       "      <td>90.490909</td>\n",
       "      <td>104.471257</td>\n",
       "      <td>97.919534</td>\n",
       "    </tr>\n",
       "    <tr>\n",
       "      <th>2018-08-13 21:00:00</th>\n",
       "      <td>160</td>\n",
       "      <td>97.194271</td>\n",
       "      <td>120.707041</td>\n",
       "      <td>107.060000</td>\n",
       "      <td>107.550892</td>\n",
       "      <td>103.209180</td>\n",
       "    </tr>\n",
       "    <tr>\n",
       "      <th>2018-08-13 22:00:00</th>\n",
       "      <td>104</td>\n",
       "      <td>138.486487</td>\n",
       "      <td>133.433114</td>\n",
       "      <td>132.806452</td>\n",
       "      <td>146.317164</td>\n",
       "      <td>116.619657</td>\n",
       "    </tr>\n",
       "    <tr>\n",
       "      <th>2018-08-13 23:00:00</th>\n",
       "      <td>134</td>\n",
       "      <td>121.007649</td>\n",
       "      <td>124.648406</td>\n",
       "      <td>132.806452</td>\n",
       "      <td>136.677761</td>\n",
       "      <td>117.426009</td>\n",
       "    </tr>\n",
       "  </tbody>\n",
       "</table>\n",
       "</div>"
      ],
      "text/plain": [
       "                     real      Linear  RandomForest  Decision Tree  \\\n",
       "datetime                                                             \n",
       "2018-08-13 14:00:00   102  111.297030     91.932076      92.668394   \n",
       "2018-08-13 15:00:00   175  109.054284    114.476352      92.668394   \n",
       "2018-08-13 16:00:00   144  141.072347    136.659002     132.806452   \n",
       "2018-08-13 17:00:00   152  135.878736    133.117281     132.806452   \n",
       "2018-08-13 18:00:00   104  136.429951    118.803827     132.806452   \n",
       "2018-08-13 19:00:00    91  111.273074     99.090585      90.490909   \n",
       "2018-08-13 20:00:00    82  104.714504    108.246683      90.490909   \n",
       "2018-08-13 21:00:00   160   97.194271    120.707041     107.060000   \n",
       "2018-08-13 22:00:00   104  138.486487    133.433114     132.806452   \n",
       "2018-08-13 23:00:00   134  121.007649    124.648406     132.806452   \n",
       "\n",
       "                       CatBoost    LightGBM  \n",
       "datetime                                     \n",
       "2018-08-13 14:00:00   96.698188   97.330791  \n",
       "2018-08-13 15:00:00  112.044574  115.830529  \n",
       "2018-08-13 16:00:00  146.242545  146.646252  \n",
       "2018-08-13 17:00:00  144.305815  120.850099  \n",
       "2018-08-13 18:00:00  121.467387  107.397555  \n",
       "2018-08-13 19:00:00   99.279846  102.919152  \n",
       "2018-08-13 20:00:00  104.471257   97.919534  \n",
       "2018-08-13 21:00:00  107.550892  103.209180  \n",
       "2018-08-13 22:00:00  146.317164  116.619657  \n",
       "2018-08-13 23:00:00  136.677761  117.426009  "
      ]
     },
     "execution_count": 18,
     "metadata": {},
     "output_type": "execute_result"
    }
   ],
   "source": [
    "# Crear un DataFrame comparativo\n",
    "comparison = pd.DataFrame({\n",
    "    'real': target_test,                        # valores reales\n",
    "    'Linear': lr_pred,                         # modelo de regresión lineal\n",
    "    'RandomForest': randomf_pred,               # random forest\n",
    "    'Decision Tree': tree_pred,                 # Decision tree\n",
    "    'CatBoost': target_pred_lgb,                # catboost\n",
    "    'LightGBM': target_pred_cat                 # lightgbm\n",
    "}) \n",
    "\n",
    "# Mostrar las primeras filas para comparación de predicciones vs el numero real de viajes.\n",
    "comparison.head(10)"
   ]
  },
  {
   "cell_type": "markdown",
   "metadata": {},
   "source": [
    "## Conclusión"
   ]
  },
  {
   "cell_type": "markdown",
   "metadata": {},
   "source": [
    "En este proyecto teniamos como objetivo desarrollar un modelo que fuera capaz de predecir el número de viajes solicitados por hora, Sweet Lift Taxi nos proporciono los datos para poder realizar el estudio, preparación y entrenamiento de los modelos. \n",
    "\n",
    "Comenzamos realizando un remuestreo a intervalos de 1 hora de acuerdo a los requerimientos. Se preparo el dataset para obtener los conjuntos de entrenamiento y testeo de los modelos. \n",
    "\n",
    "En el analisis encontramos que el número de pedidos tiene un aumento progesivo al avanzar el año.\n",
    "Posteriormente comprobamos el RMSE de cada modelo para evaluar cual cumplia con el objetivo de menos de 48. \n",
    "\n",
    "Usamos varios modelos:\n",
    "\n",
    "Regresión Lineal\n",
    "\n",
    "Árbol de Decisión\n",
    "\n",
    "Random Forest\n",
    "\n",
    "CatBoost\n",
    "\n",
    "LightGBM\n",
    "\n",
    "Probamos con distintos hiperparámetros.\n",
    "\n",
    "Resultados\n",
    "El mejor modelo fue LightGBM, que logró un RMSE de 42.63, cumpliendo con el requisito de estar por debajo de 48."
   ]
  },
  {
   "cell_type": "markdown",
   "metadata": {},
   "source": [
    "# Lista de revisión"
   ]
  },
  {
   "cell_type": "markdown",
   "metadata": {},
   "source": [
    "- [x]  \t\n",
    "Jupyter Notebook está abierto.\n",
    "- [ ]  El código no tiene errores\n",
    "- [ ]  Las celdas con el código han sido colocadas en el orden de ejecución.\n",
    "- [ ]  \t\n",
    "Los datos han sido descargados y preparados.\n",
    "- [ ]  Se ha realizado el paso 2: los datos han sido analizados\n",
    "- [ ]  Se entrenó el modelo y se seleccionaron los hiperparámetros\n",
    "- [ ]  Se han evaluado los modelos. Se expuso una conclusión\n",
    "- [ ] La *RECM* para el conjunto de prueba no es más de 48"
   ]
  }
 ],
 "metadata": {
  "ExecuteTimeLog": [
   {
    "duration": 741,
    "start_time": "2025-05-04T07:39:12.078Z"
   },
   {
    "duration": 26,
    "start_time": "2025-05-04T07:43:27.996Z"
   },
   {
    "duration": 9,
    "start_time": "2025-05-04T07:43:42.320Z"
   },
   {
    "duration": 9,
    "start_time": "2025-05-04T07:44:02.422Z"
   },
   {
    "duration": 8,
    "start_time": "2025-05-04T07:44:07.359Z"
   },
   {
    "duration": 10,
    "start_time": "2025-05-04T07:44:32.703Z"
   },
   {
    "duration": 5,
    "start_time": "2025-05-04T07:45:19.649Z"
   },
   {
    "duration": 3,
    "start_time": "2025-05-04T07:46:16.023Z"
   },
   {
    "duration": 3,
    "start_time": "2025-05-04T08:21:06.121Z"
   },
   {
    "duration": 177,
    "start_time": "2025-05-04T08:25:39.503Z"
   },
   {
    "duration": 724,
    "start_time": "2025-05-04T08:25:45.718Z"
   },
   {
    "duration": 508,
    "start_time": "2025-05-04T08:25:46.444Z"
   },
   {
    "duration": 0,
    "start_time": "2025-05-04T08:25:46.955Z"
   },
   {
    "duration": 0,
    "start_time": "2025-05-04T08:25:46.956Z"
   },
   {
    "duration": 0,
    "start_time": "2025-05-04T08:25:46.958Z"
   },
   {
    "duration": 0,
    "start_time": "2025-05-04T08:25:46.959Z"
   },
   {
    "duration": 0,
    "start_time": "2025-05-04T08:25:46.961Z"
   },
   {
    "duration": 0,
    "start_time": "2025-05-04T08:25:46.962Z"
   },
   {
    "duration": 25,
    "start_time": "2025-05-04T08:26:05.546Z"
   },
   {
    "duration": 10,
    "start_time": "2025-05-04T08:26:11.354Z"
   },
   {
    "duration": 8,
    "start_time": "2025-05-04T08:26:11.367Z"
   },
   {
    "duration": 10,
    "start_time": "2025-05-04T08:26:11.377Z"
   },
   {
    "duration": 4,
    "start_time": "2025-05-04T08:26:11.388Z"
   },
   {
    "duration": 3,
    "start_time": "2025-05-04T08:26:11.394Z"
   },
   {
    "duration": 4,
    "start_time": "2025-05-04T08:26:11.399Z"
   },
   {
    "duration": 4,
    "start_time": "2025-05-04T08:28:08.567Z"
   },
   {
    "duration": 4,
    "start_time": "2025-05-04T08:28:14.636Z"
   },
   {
    "duration": 3,
    "start_time": "2025-05-04T08:28:15.219Z"
   },
   {
    "duration": 4,
    "start_time": "2025-05-04T08:30:09.849Z"
   },
   {
    "duration": 5,
    "start_time": "2025-05-04T08:31:58.184Z"
   },
   {
    "duration": 6,
    "start_time": "2025-05-04T08:34:51.486Z"
   },
   {
    "duration": 6,
    "start_time": "2025-05-04T08:34:57.724Z"
   },
   {
    "duration": 7,
    "start_time": "2025-05-04T08:35:04.067Z"
   },
   {
    "duration": 15,
    "start_time": "2025-05-04T08:44:51.087Z"
   },
   {
    "duration": 59,
    "start_time": "2025-05-04T08:44:55.433Z"
   },
   {
    "duration": 10,
    "start_time": "2025-05-04T08:46:46.571Z"
   },
   {
    "duration": 7,
    "start_time": "2025-05-04T08:47:23.674Z"
   },
   {
    "duration": 5,
    "start_time": "2025-05-04T08:50:38.057Z"
   },
   {
    "duration": 7,
    "start_time": "2025-05-04T08:50:56.867Z"
   },
   {
    "duration": 161,
    "start_time": "2025-05-04T18:01:43.630Z"
   },
   {
    "duration": 783,
    "start_time": "2025-05-04T18:01:49.826Z"
   },
   {
    "duration": 31,
    "start_time": "2025-05-04T18:01:50.612Z"
   },
   {
    "duration": 9,
    "start_time": "2025-05-04T18:01:50.644Z"
   },
   {
    "duration": 8,
    "start_time": "2025-05-04T18:01:50.654Z"
   },
   {
    "duration": 10,
    "start_time": "2025-05-04T18:01:50.664Z"
   },
   {
    "duration": 3,
    "start_time": "2025-05-04T18:01:50.676Z"
   },
   {
    "duration": 5,
    "start_time": "2025-05-04T18:01:50.680Z"
   },
   {
    "duration": 3,
    "start_time": "2025-05-04T18:01:50.687Z"
   },
   {
    "duration": 26,
    "start_time": "2025-05-04T18:01:50.692Z"
   },
   {
    "duration": 232,
    "start_time": "2025-05-04T18:01:50.720Z"
   },
   {
    "duration": 5,
    "start_time": "2025-05-04T18:02:00.251Z"
   },
   {
    "duration": 5,
    "start_time": "2025-05-04T18:02:12.409Z"
   },
   {
    "duration": 2062,
    "start_time": "2025-05-04T18:02:30.985Z"
   },
   {
    "duration": 4,
    "start_time": "2025-05-04T18:54:14.023Z"
   },
   {
    "duration": 4,
    "start_time": "2025-05-04T18:56:49.452Z"
   },
   {
    "duration": 4,
    "start_time": "2025-05-04T18:56:55.536Z"
   },
   {
    "duration": 11,
    "start_time": "2025-05-04T18:58:43.586Z"
   },
   {
    "duration": 8,
    "start_time": "2025-05-04T19:04:25.047Z"
   },
   {
    "duration": 188,
    "start_time": "2025-05-04T19:12:16.237Z"
   },
   {
    "duration": 608,
    "start_time": "2025-05-04T19:13:36.466Z"
   },
   {
    "duration": 7,
    "start_time": "2025-05-04T19:15:15.284Z"
   },
   {
    "duration": 8,
    "start_time": "2025-05-04T19:15:15.699Z"
   },
   {
    "duration": 634,
    "start_time": "2025-05-04T19:15:16.653Z"
   },
   {
    "duration": 754,
    "start_time": "2025-05-04T19:15:24.140Z"
   },
   {
    "duration": 22,
    "start_time": "2025-05-04T19:15:24.896Z"
   },
   {
    "duration": 10,
    "start_time": "2025-05-04T19:15:24.919Z"
   },
   {
    "duration": 8,
    "start_time": "2025-05-04T19:15:24.930Z"
   },
   {
    "duration": 8,
    "start_time": "2025-05-04T19:15:24.941Z"
   },
   {
    "duration": 3,
    "start_time": "2025-05-04T19:15:24.951Z"
   },
   {
    "duration": 3,
    "start_time": "2025-05-04T19:15:24.956Z"
   },
   {
    "duration": 4,
    "start_time": "2025-05-04T19:15:24.960Z"
   },
   {
    "duration": 7,
    "start_time": "2025-05-04T19:15:24.965Z"
   },
   {
    "duration": 14,
    "start_time": "2025-05-04T19:15:25.011Z"
   },
   {
    "duration": 10,
    "start_time": "2025-05-04T19:15:25.026Z"
   },
   {
    "duration": 798,
    "start_time": "2025-05-04T19:15:25.038Z"
   },
   {
    "duration": 170,
    "start_time": "2025-05-04T19:34:12.733Z"
   },
   {
    "duration": 761,
    "start_time": "2025-05-04T20:12:40.727Z"
   },
   {
    "duration": 24,
    "start_time": "2025-05-04T20:12:41.490Z"
   },
   {
    "duration": 9,
    "start_time": "2025-05-04T20:12:41.515Z"
   },
   {
    "duration": 8,
    "start_time": "2025-05-04T20:12:41.526Z"
   },
   {
    "duration": 8,
    "start_time": "2025-05-04T20:12:41.536Z"
   },
   {
    "duration": 3,
    "start_time": "2025-05-04T20:12:41.546Z"
   },
   {
    "duration": 4,
    "start_time": "2025-05-04T20:12:41.551Z"
   },
   {
    "duration": 4,
    "start_time": "2025-05-04T20:12:41.556Z"
   },
   {
    "duration": 7,
    "start_time": "2025-05-04T20:12:41.562Z"
   },
   {
    "duration": 48,
    "start_time": "2025-05-04T20:12:41.571Z"
   },
   {
    "duration": 7,
    "start_time": "2025-05-04T20:12:41.621Z"
   },
   {
    "duration": 414,
    "start_time": "2025-05-04T20:12:41.630Z"
   },
   {
    "duration": 829,
    "start_time": "2025-05-05T02:03:04.905Z"
   },
   {
    "duration": 3,
    "start_time": "2025-05-05T02:03:46.875Z"
   },
   {
    "duration": 2,
    "start_time": "2025-05-05T02:05:24.759Z"
   },
   {
    "duration": 265,
    "start_time": "2025-05-05T02:08:51.380Z"
   },
   {
    "duration": 781,
    "start_time": "2025-05-05T02:08:57.980Z"
   },
   {
    "duration": 30,
    "start_time": "2025-05-05T02:08:58.765Z"
   },
   {
    "duration": 11,
    "start_time": "2025-05-05T02:08:58.797Z"
   },
   {
    "duration": 9,
    "start_time": "2025-05-05T02:08:58.811Z"
   },
   {
    "duration": 9,
    "start_time": "2025-05-05T02:08:58.822Z"
   },
   {
    "duration": 3,
    "start_time": "2025-05-05T02:08:58.834Z"
   },
   {
    "duration": 4,
    "start_time": "2025-05-05T02:08:58.839Z"
   },
   {
    "duration": 29,
    "start_time": "2025-05-05T02:08:58.845Z"
   },
   {
    "duration": 9,
    "start_time": "2025-05-05T02:08:58.876Z"
   },
   {
    "duration": 12,
    "start_time": "2025-05-05T02:08:58.888Z"
   },
   {
    "duration": 9,
    "start_time": "2025-05-05T02:08:58.901Z"
   },
   {
    "duration": 2315,
    "start_time": "2025-05-05T02:08:58.912Z"
   },
   {
    "duration": 399,
    "start_time": "2025-05-05T02:09:01.229Z"
   },
   {
    "duration": 3,
    "start_time": "2025-05-05T02:10:06.987Z"
   },
   {
    "duration": 707,
    "start_time": "2025-05-05T02:10:11.158Z"
   },
   {
    "duration": 27,
    "start_time": "2025-05-05T02:10:11.867Z"
   },
   {
    "duration": 18,
    "start_time": "2025-05-05T02:10:11.895Z"
   },
   {
    "duration": 9,
    "start_time": "2025-05-05T02:10:11.914Z"
   },
   {
    "duration": 9,
    "start_time": "2025-05-05T02:10:11.926Z"
   },
   {
    "duration": 5,
    "start_time": "2025-05-05T02:10:11.937Z"
   },
   {
    "duration": 27,
    "start_time": "2025-05-05T02:10:11.943Z"
   },
   {
    "duration": 4,
    "start_time": "2025-05-05T02:10:11.973Z"
   },
   {
    "duration": 9,
    "start_time": "2025-05-05T02:10:11.979Z"
   },
   {
    "duration": 12,
    "start_time": "2025-05-05T02:10:11.989Z"
   },
   {
    "duration": 13,
    "start_time": "2025-05-05T02:10:12.004Z"
   },
   {
    "duration": 435,
    "start_time": "2025-05-05T02:10:12.019Z"
   },
   {
    "duration": 14,
    "start_time": "2025-05-05T02:10:12.456Z"
   },
   {
    "duration": 225,
    "start_time": "2025-05-05T02:17:13.367Z"
   },
   {
    "duration": 24,
    "start_time": "2025-05-05T02:17:22.127Z"
   },
   {
    "duration": 780,
    "start_time": "2025-05-05T02:17:27.302Z"
   },
   {
    "duration": 23,
    "start_time": "2025-05-05T02:17:28.084Z"
   },
   {
    "duration": 10,
    "start_time": "2025-05-05T02:17:28.108Z"
   },
   {
    "duration": 8,
    "start_time": "2025-05-05T02:17:28.121Z"
   },
   {
    "duration": 10,
    "start_time": "2025-05-05T02:17:28.131Z"
   },
   {
    "duration": 28,
    "start_time": "2025-05-05T02:17:28.142Z"
   },
   {
    "duration": 4,
    "start_time": "2025-05-05T02:17:28.172Z"
   },
   {
    "duration": 5,
    "start_time": "2025-05-05T02:17:28.178Z"
   },
   {
    "duration": 9,
    "start_time": "2025-05-05T02:17:28.185Z"
   },
   {
    "duration": 12,
    "start_time": "2025-05-05T02:17:28.196Z"
   },
   {
    "duration": 11,
    "start_time": "2025-05-05T02:17:28.210Z"
   },
   {
    "duration": 475,
    "start_time": "2025-05-05T02:17:28.223Z"
   },
   {
    "duration": 9,
    "start_time": "2025-05-05T02:17:28.700Z"
   },
   {
    "duration": 241,
    "start_time": "2025-05-05T02:19:43.640Z"
   },
   {
    "duration": 17,
    "start_time": "2025-05-05T02:19:54.581Z"
   },
   {
    "duration": 660,
    "start_time": "2025-05-05T02:19:58.287Z"
   },
   {
    "duration": 30,
    "start_time": "2025-05-05T02:22:04.488Z"
   },
   {
    "duration": 40,
    "start_time": "2025-05-05T02:22:13.068Z"
   },
   {
    "duration": 42,
    "start_time": "2025-05-05T02:25:38.527Z"
   },
   {
    "duration": 29,
    "start_time": "2025-05-05T02:25:44.279Z"
   },
   {
    "duration": 26,
    "start_time": "2025-05-05T02:25:48.660Z"
   },
   {
    "duration": 31,
    "start_time": "2025-05-05T02:25:52.913Z"
   },
   {
    "duration": 68,
    "start_time": "2025-05-05T02:25:56.166Z"
   },
   {
    "duration": 10,
    "start_time": "2025-05-05T02:25:58.730Z"
   },
   {
    "duration": 11,
    "start_time": "2025-05-05T02:26:02.031Z"
   },
   {
    "duration": 27,
    "start_time": "2025-05-05T02:26:04.874Z"
   },
   {
    "duration": 24,
    "start_time": "2025-05-05T02:26:08.452Z"
   },
   {
    "duration": 25,
    "start_time": "2025-05-05T02:26:12.164Z"
   },
   {
    "duration": 21,
    "start_time": "2025-05-05T02:27:43.046Z"
   },
   {
    "duration": 104,
    "start_time": "2025-05-05T02:28:08.055Z"
   },
   {
    "duration": 1100,
    "start_time": "2025-05-05T02:28:12.719Z"
   },
   {
    "duration": 31,
    "start_time": "2025-05-05T02:28:13.824Z"
   },
   {
    "duration": 15,
    "start_time": "2025-05-05T02:28:13.857Z"
   },
   {
    "duration": 8,
    "start_time": "2025-05-05T02:28:13.876Z"
   },
   {
    "duration": 12,
    "start_time": "2025-05-05T02:28:13.886Z"
   },
   {
    "duration": 5,
    "start_time": "2025-05-05T02:28:13.899Z"
   },
   {
    "duration": 4,
    "start_time": "2025-05-05T02:28:13.918Z"
   },
   {
    "duration": 3,
    "start_time": "2025-05-05T02:28:13.924Z"
   },
   {
    "duration": 10,
    "start_time": "2025-05-05T02:28:13.929Z"
   },
   {
    "duration": 33,
    "start_time": "2025-05-05T02:28:13.942Z"
   },
   {
    "duration": 10,
    "start_time": "2025-05-05T02:28:13.977Z"
   },
   {
    "duration": 523,
    "start_time": "2025-05-05T02:28:13.988Z"
   },
   {
    "duration": 10,
    "start_time": "2025-05-05T02:28:14.517Z"
   },
   {
    "duration": 839,
    "start_time": "2025-05-05T02:28:14.532Z"
   },
   {
    "duration": 34,
    "start_time": "2025-05-05T02:28:15.374Z"
   },
   {
    "duration": 1093,
    "start_time": "2025-05-05T02:29:32.742Z"
   },
   {
    "duration": 34,
    "start_time": "2025-05-05T02:29:33.837Z"
   },
   {
    "duration": 15,
    "start_time": "2025-05-05T02:29:33.876Z"
   },
   {
    "duration": 39,
    "start_time": "2025-05-05T02:29:33.893Z"
   },
   {
    "duration": 16,
    "start_time": "2025-05-05T02:29:33.937Z"
   },
   {
    "duration": 4,
    "start_time": "2025-05-05T02:29:33.956Z"
   },
   {
    "duration": 7,
    "start_time": "2025-05-05T02:29:33.962Z"
   },
   {
    "duration": 6,
    "start_time": "2025-05-05T02:29:33.976Z"
   },
   {
    "duration": 12,
    "start_time": "2025-05-05T02:29:33.990Z"
   },
   {
    "duration": 13,
    "start_time": "2025-05-05T02:29:34.004Z"
   },
   {
    "duration": 9,
    "start_time": "2025-05-05T02:29:34.019Z"
   },
   {
    "duration": 555,
    "start_time": "2025-05-05T02:29:34.030Z"
   },
   {
    "duration": 10,
    "start_time": "2025-05-05T02:29:34.587Z"
   },
   {
    "duration": 862,
    "start_time": "2025-05-05T02:29:34.600Z"
   },
   {
    "duration": 30,
    "start_time": "2025-05-05T02:29:35.465Z"
   },
   {
    "duration": 137442,
    "start_time": "2025-05-05T02:29:35.496Z"
   },
   {
    "duration": 0,
    "start_time": "2025-05-05T02:31:52.939Z"
   },
   {
    "duration": 38,
    "start_time": "2025-05-05T02:32:22.168Z"
   },
   {
    "duration": 3,
    "start_time": "2025-05-05T02:32:35.070Z"
   },
   {
    "duration": 901,
    "start_time": "2025-05-05T02:32:40.350Z"
   },
   {
    "duration": 49,
    "start_time": "2025-05-05T02:32:41.253Z"
   },
   {
    "duration": 10,
    "start_time": "2025-05-05T02:32:41.310Z"
   },
   {
    "duration": 8,
    "start_time": "2025-05-05T02:32:41.323Z"
   },
   {
    "duration": 10,
    "start_time": "2025-05-05T02:32:41.333Z"
   },
   {
    "duration": 3,
    "start_time": "2025-05-05T02:32:41.345Z"
   },
   {
    "duration": 5,
    "start_time": "2025-05-05T02:32:41.350Z"
   },
   {
    "duration": 5,
    "start_time": "2025-05-05T02:32:41.357Z"
   },
   {
    "duration": 19,
    "start_time": "2025-05-05T02:32:41.363Z"
   },
   {
    "duration": 29,
    "start_time": "2025-05-05T02:32:41.385Z"
   },
   {
    "duration": 10,
    "start_time": "2025-05-05T02:32:41.415Z"
   },
   {
    "duration": 416,
    "start_time": "2025-05-05T02:32:41.426Z"
   },
   {
    "duration": 9,
    "start_time": "2025-05-05T02:32:41.844Z"
   },
   {
    "duration": 781,
    "start_time": "2025-05-05T02:32:41.855Z"
   },
   {
    "duration": 37,
    "start_time": "2025-05-05T02:32:42.638Z"
   },
   {
    "duration": 53205,
    "start_time": "2025-05-05T02:32:42.680Z"
   },
   {
    "duration": 0,
    "start_time": "2025-05-05T02:33:36.223Z"
   },
   {
    "duration": 1,
    "start_time": "2025-05-05T02:33:36.224Z"
   },
   {
    "duration": 22,
    "start_time": "2025-05-05T02:36:25.659Z"
   },
   {
    "duration": 1828,
    "start_time": "2025-05-05T02:36:45.759Z"
   },
   {
    "duration": 13,
    "start_time": "2025-05-05T02:37:16.427Z"
   },
   {
    "duration": 2093,
    "start_time": "2025-05-05T02:37:46.659Z"
   },
   {
    "duration": 9067,
    "start_time": "2025-05-05T02:38:10.309Z"
   },
   {
    "duration": 605,
    "start_time": "2025-05-05T02:38:34.852Z"
   },
   {
    "duration": 1085,
    "start_time": "2025-05-05T02:40:20.785Z"
   },
   {
    "duration": 27,
    "start_time": "2025-05-05T02:40:21.872Z"
   },
   {
    "duration": 10,
    "start_time": "2025-05-05T02:40:21.902Z"
   },
   {
    "duration": 9,
    "start_time": "2025-05-05T02:40:21.915Z"
   },
   {
    "duration": 11,
    "start_time": "2025-05-05T02:40:21.926Z"
   },
   {
    "duration": 4,
    "start_time": "2025-05-05T02:40:21.939Z"
   },
   {
    "duration": 29,
    "start_time": "2025-05-05T02:40:21.945Z"
   },
   {
    "duration": 4,
    "start_time": "2025-05-05T02:40:21.976Z"
   },
   {
    "duration": 10,
    "start_time": "2025-05-05T02:40:21.982Z"
   },
   {
    "duration": 13,
    "start_time": "2025-05-05T02:40:21.995Z"
   },
   {
    "duration": 9,
    "start_time": "2025-05-05T02:40:22.010Z"
   },
   {
    "duration": 553,
    "start_time": "2025-05-05T02:40:22.021Z"
   },
   {
    "duration": 15,
    "start_time": "2025-05-05T02:40:22.576Z"
   },
   {
    "duration": 878,
    "start_time": "2025-05-05T02:40:22.592Z"
   },
   {
    "duration": 29,
    "start_time": "2025-05-05T02:40:23.472Z"
   },
   {
    "duration": 127603,
    "start_time": "2025-05-05T02:40:23.503Z"
   },
   {
    "duration": 8106,
    "start_time": "2025-05-05T02:42:31.108Z"
   },
   {
    "duration": 248,
    "start_time": "2025-05-05T02:42:39.217Z"
   },
   {
    "duration": 0,
    "start_time": "2025-05-05T02:42:39.470Z"
   },
   {
    "duration": 19,
    "start_time": "2025-05-05T02:42:45.756Z"
   },
   {
    "duration": 13,
    "start_time": "2025-05-05T02:42:49.901Z"
   },
   {
    "duration": 16,
    "start_time": "2025-05-05T03:03:36.753Z"
   },
   {
    "duration": 912,
    "start_time": "2025-05-05T05:46:03.091Z"
   },
   {
    "duration": 25,
    "start_time": "2025-05-05T05:46:04.005Z"
   },
   {
    "duration": 9,
    "start_time": "2025-05-05T05:46:04.032Z"
   },
   {
    "duration": 7,
    "start_time": "2025-05-05T05:46:04.043Z"
   },
   {
    "duration": 10,
    "start_time": "2025-05-05T05:46:04.052Z"
   },
   {
    "duration": 23,
    "start_time": "2025-05-05T05:46:04.063Z"
   },
   {
    "duration": 4,
    "start_time": "2025-05-05T05:46:04.088Z"
   },
   {
    "duration": 4,
    "start_time": "2025-05-05T05:46:04.093Z"
   },
   {
    "duration": 8,
    "start_time": "2025-05-05T05:46:04.100Z"
   },
   {
    "duration": 10,
    "start_time": "2025-05-05T05:46:04.112Z"
   },
   {
    "duration": 9,
    "start_time": "2025-05-05T05:46:04.123Z"
   },
   {
    "duration": 2197,
    "start_time": "2025-05-05T05:46:04.134Z"
   },
   {
    "duration": 12,
    "start_time": "2025-05-05T05:46:06.333Z"
   },
   {
    "duration": 799,
    "start_time": "2025-05-05T05:46:06.350Z"
   },
   {
    "duration": 35,
    "start_time": "2025-05-05T05:46:07.151Z"
   },
   {
    "duration": 205,
    "start_time": "2025-05-05T05:46:07.188Z"
   },
   {
    "duration": 6939,
    "start_time": "2025-05-05T05:46:07.394Z"
   },
   {
    "duration": 11,
    "start_time": "2025-05-05T05:46:14.335Z"
   }
  ],
  "kernelspec": {
   "display_name": "Python 3 (ipykernel)",
   "language": "python",
   "name": "python3"
  },
  "language_info": {
   "codemirror_mode": {
    "name": "ipython",
    "version": 3
   },
   "file_extension": ".py",
   "mimetype": "text/x-python",
   "name": "python",
   "nbconvert_exporter": "python",
   "pygments_lexer": "ipython3",
   "version": "3.9.19"
  },
  "toc": {
   "base_numbering": 1,
   "nav_menu": {},
   "number_sections": true,
   "sideBar": true,
   "skip_h1_title": true,
   "title_cell": "Table of Contents",
   "title_sidebar": "Contents",
   "toc_cell": false,
   "toc_position": {
    "height": "calc(100% - 180px)",
    "left": "10px",
    "top": "150px",
    "width": "364.229px"
   },
   "toc_section_display": true,
   "toc_window_display": true
  }
 },
 "nbformat": 4,
 "nbformat_minor": 2
}
